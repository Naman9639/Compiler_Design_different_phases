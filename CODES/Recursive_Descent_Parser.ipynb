{
 "cells": [
  {
   "cell_type": "markdown",
   "metadata": {},
   "source": [
    "<p>S → rXd | rZd </p>\n",
    "<p>X → oa | ea </p>\n",
    "<p>Z → ai</p>"
   ]
  },
  {
   "cell_type": "code",
   "execution_count": 1,
   "metadata": {},
   "outputs": [],
   "source": [
    "import numpy as np"
   ]
  },
  {
   "cell_type": "code",
   "execution_count": 2,
   "metadata": {},
   "outputs": [],
   "source": [
    "class rdParser:\n",
    "    string = ''\n",
    "    i = 0\n",
    "    def __init__(self):\n",
    "        self.string = str(input(\"Enter the string :\"))\n",
    "        self.i = 0\n",
    "        if self.S():\n",
    "            print(\"String Accepted\")\n",
    "        else:\n",
    "            print(\"String Rejected\")\n",
    "    \n",
    "    def match(self,t):\n",
    "        if self.string[self.i] == t:\n",
    "            return True\n",
    "        return False\n",
    "    \n",
    "    def S(self):\n",
    "        save = self.i\n",
    "        if self.match('r'):\n",
    "            self.i+=1\n",
    "            if(self.X()):\n",
    "                if self.match('d'):\n",
    "                    self.i+=1\n",
    "                    return True\n",
    "        self.i = save\n",
    "        if self.match('r'):\n",
    "            self.i+=1\n",
    "            if self.Z():\n",
    "                if self.match('d'):\n",
    "                    self.i+=1\n",
    "                    return True\n",
    "        return False\n",
    "    \n",
    "    \n",
    "    def X(self):\n",
    "        save = self.i\n",
    "        if self.match('o'):\n",
    "            self.i+=1\n",
    "            if self.match('a'):\n",
    "                self.i+=1\n",
    "                return True\n",
    "        self.i=save\n",
    "        if self.match('e'):\n",
    "            self.i+=1\n",
    "            if self.match('a'):\n",
    "                self.i+=1\n",
    "                return True\n",
    "        return False\n",
    "    \n",
    "    \n",
    "    def Z(self):\n",
    "        save = self.i\n",
    "        if self.match('a'):\n",
    "            self.i+=1\n",
    "            if self.match('i'):\n",
    "                self.i+=1\n",
    "                return True\n",
    "        return False\n",
    "    \n",
    "  \n",
    "            "
   ]
  },
  {
   "cell_type": "code",
   "execution_count": 3,
   "metadata": {},
   "outputs": [
    {
     "name": "stdout",
     "output_type": "stream",
     "text": [
      "Enter the string :read\n",
      "String Accepted\n"
     ]
    }
   ],
   "source": [
    "t=rdParser()"
   ]
  },
  {
   "cell_type": "code",
   "execution_count": 4,
   "metadata": {},
   "outputs": [
    {
     "name": "stdout",
     "output_type": "stream",
     "text": [
      "Enter the string :raid\n",
      "String Accepted\n"
     ]
    }
   ],
   "source": [
    "t2=rdParser()"
   ]
  },
  {
   "cell_type": "code",
   "execution_count": 5,
   "metadata": {},
   "outputs": [
    {
     "name": "stdout",
     "output_type": "stream",
     "text": [
      "Enter the string :road\n",
      "String Accepted\n"
     ]
    }
   ],
   "source": [
    "t3=rdParser()"
   ]
  },
  {
   "cell_type": "code",
   "execution_count": 6,
   "metadata": {},
   "outputs": [
    {
     "name": "stdout",
     "output_type": "stream",
     "text": [
      "Enter the string :rand\n",
      "String Rejected\n"
     ]
    }
   ],
   "source": [
    "t4=rdParser()"
   ]
  },
  {
   "cell_type": "code",
   "execution_count": null,
   "metadata": {},
   "outputs": [],
   "source": []
  }
 ],
 "metadata": {
  "kernelspec": {
   "display_name": "Python 3",
   "language": "python",
   "name": "python3"
  },
  "language_info": {
   "codemirror_mode": {
    "name": "ipython",
    "version": 3
   },
   "file_extension": ".py",
   "mimetype": "text/x-python",
   "name": "python",
   "nbconvert_exporter": "python",
   "pygments_lexer": "ipython3",
   "version": "3.7.1"
  }
 },
 "nbformat": 4,
 "nbformat_minor": 2
}
