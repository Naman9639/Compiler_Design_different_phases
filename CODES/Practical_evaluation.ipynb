{
 "cells": [
  {
   "cell_type": "code",
   "execution_count": null,
   "metadata": {},
   "outputs": [],
   "source": []
  },
  {
   "cell_type": "code",
   "execution_count": 38,
   "metadata": {},
   "outputs": [
    {
     "name": "stdout",
     "output_type": "stream",
     "text": [
      "Enter number of states :4\n",
      "Enter the Symbols : ab\n",
      "Enter moves from state 0 through a :1\n",
      "Enter moves from state 0 through b :-1\n",
      "Enter moves from state 0 through e :-1\n",
      "Enter moves from state 1 through a :-1\n",
      "Enter moves from state 1 through b :0\n",
      "Enter moves from state 1 through e :2 3\n",
      "Enter moves from state 2 through a :2\n",
      "Enter moves from state 2 through b :-1\n",
      "Enter moves from state 2 through e :-1\n",
      "Enter moves from state 3 through a :-1\n",
      "Enter moves from state 3 through b :0 2\n",
      "Enter moves from state 3 through e :-1\n",
      "[{'a': [1]}, {'b': [0], 'e': [2, 3]}, {'a': [2]}, {'b': [0, 2]}]\n"
     ]
    }
   ],
   "source": [
    "# input nfa and initialisations\n",
    "\n",
    "epsilon = 'e'\n",
    "\n",
    "nfa = []\n",
    "n = int(input(\"Enter number of states :\"))\n",
    "for i in range(n):\n",
    "    nfa.append({})\n",
    "varlist = list(str(input(\"Enter the Symbols : \")))\n",
    "varliste = varlist.copy()\n",
    "varliste.append(epsilon)\n",
    "for i in range(n):\n",
    "    for t in varliste:\n",
    "        move = ((str(input(\"Enter moves from state \"+ str(i) +\" through \" + t +  \" :\" )).split(' ')))\n",
    "        for j in range(len(move)):\n",
    "            move[j] = int(move[j])\n",
    "        if not move[0] == -1:\n",
    "            nfa[i][t] = move\n",
    "print(nfa)            "
   ]
  },
  {
   "cell_type": "code",
   "execution_count": null,
   "metadata": {},
   "outputs": [],
   "source": []
  },
  {
   "cell_type": "code",
   "execution_count": 39,
   "metadata": {},
   "outputs": [
    {
     "name": "stdout",
     "output_type": "stream",
     "text": [
      "[1, 2, 3]\n"
     ]
    }
   ],
   "source": [
    "# function for e moves\n",
    "\n",
    "def epsilon_moves(nfa,state):\n",
    "    state_list = []\n",
    "    for x in state:\n",
    "        state_set = set([x])\n",
    "        if epsilon in nfa[x].keys():\n",
    "            state_set.update(set(nfa[x][epsilon]))\n",
    "        \n",
    "        t = set([x])\n",
    "        while not t == state_set:\n",
    "            t = state_set.copy()\n",
    "            for i in t:\n",
    "                if epsilon in nfa[i].keys():\n",
    "                    state_set.update(set(nfa[i][epsilon]))\n",
    "        state_list.extend(list(state_set))\n",
    "    state_list = set(state_list)\n",
    "    state_list = list(state_list)\n",
    "    state_list.sort()\n",
    "    return state_list\n",
    "print(epsilon_moves(nfa,[1]))"
   ]
  },
  {
   "cell_type": "code",
   "execution_count": null,
   "metadata": {},
   "outputs": [],
   "source": []
  },
  {
   "cell_type": "code",
   "execution_count": 40,
   "metadata": {},
   "outputs": [
    {
     "name": "stdout",
     "output_type": "stream",
     "text": [
      "[1, 2, 3]\n"
     ]
    }
   ],
   "source": [
    "#Function for generating states from the moves on symbols\n",
    "\n",
    "def other_moves(nfa, state, move):\n",
    "    state_set = set()\n",
    "    state = epsilon_moves(nfa, state)\n",
    "    for x in state:\n",
    "        if move in nfa[x].keys():\n",
    "            state_set.update(set(nfa[x][move]))\n",
    "    state_set = list(state_set)\n",
    "    state_set = epsilon_moves(nfa,state_set)\n",
    "    return state_set\n",
    "print(other_moves(nfa,[0],'a'))"
   ]
  },
  {
   "cell_type": "code",
   "execution_count": null,
   "metadata": {},
   "outputs": [],
   "source": []
  },
  {
   "cell_type": "code",
   "execution_count": 41,
   "metadata": {},
   "outputs": [],
   "source": [
    "#starting and ending states\n",
    "\n",
    "start_st = []\n",
    "start_st.append(0)\n",
    "end_st = 3\n",
    "start_st = epsilon_moves(nfa,start_st)"
   ]
  },
  {
   "cell_type": "code",
   "execution_count": 42,
   "metadata": {},
   "outputs": [],
   "source": [
    "#creating dfa from nfa\n",
    "\n",
    "dfa_states = []   \n",
    "dfa_visited = []  \n",
    "dfa_final = []    \n",
    "dfa_states.append(start_st)   \n",
    "dfa_visited.append(start_st)\n",
    "state_count=-1   \n",
    "while(dfa_visited):\n",
    "    curr_st = dfa_visited.pop(0) \n",
    "    dfa_final.append({}) \n",
    "    state_count+=1\n",
    "    for i in varlist:  \n",
    "        new_st = other_moves(nfa,curr_st,i)\n",
    "        if new_st:\n",
    "            dfa_final[state_count][i] = new_st\n",
    "            if not (new_st in dfa_states):\n",
    "                dfa_states.append(new_st)\n",
    "                dfa_visited.append(new_st)\n",
    "                        "
   ]
  },
  {
   "cell_type": "code",
   "execution_count": null,
   "metadata": {},
   "outputs": [],
   "source": []
  },
  {
   "cell_type": "code",
   "execution_count": 46,
   "metadata": {},
   "outputs": [
    {
     "name": "stdout",
     "output_type": "stream",
     "text": [
      "[{'a': [1, 2, 3]}, {'a': [2], 'b': [0, 2]}, {'a': [2]}, {'a': [1, 2, 3]}]\n",
      "[{'a': [1]}, {'b': [0], 'e': [2, 3]}, {'a': [2]}, {'b': [0, 2]}]\n",
      "3\n"
     ]
    }
   ],
   "source": [
    "print(dfa_final)\n",
    "print(nfa)\n",
    "print(state_count)"
   ]
  },
  {
   "cell_type": "code",
   "execution_count": null,
   "metadata": {},
   "outputs": [],
   "source": []
  },
  {
   "cell_type": "code",
   "execution_count": 47,
   "metadata": {},
   "outputs": [],
   "source": [
    "#printing transition table for DFA\n",
    "def displayFA(dfa_states,varlist):\n",
    "    s=''\n",
    "    for i in varlist:\n",
    "        s += i.center(15)\n",
    "\n",
    "    print (\"State\".ljust(15), s)\n",
    "\n",
    "    for i in range(len(dfa_q)):\n",
    "        s = str(dfa_states[i]).ljust(15)\n",
    "        for var in varlist:\n",
    "            if var in dfa_final[i].keys():\n",
    "                s += str(dfa_final[i][var]).center(15)\n",
    "            else:\n",
    "                s += \"-\".center(15)\n",
    "        print( s, \"\\tFinal State\" if end_st in dfa_states[i] else \"\")\n"
   ]
  },
  {
   "cell_type": "code",
   "execution_count": 50,
   "metadata": {
    "scrolled": true
   },
   "outputs": [
    {
     "name": "stdout",
     "output_type": "stream",
     "text": [
      "State                  a              b       \n",
      "[0]               [1, 2, 3]          -        \n",
      "[1, 2, 3]            [2]           [0, 2]     \tFinal State\n",
      "[2]                  [2]             -        \n",
      "[0, 2]            [1, 2, 3]          -        \n"
     ]
    }
   ],
   "source": [
    "displayFA(dfa_states,varlist)"
   ]
  },
  {
   "cell_type": "code",
   "execution_count": null,
   "metadata": {},
   "outputs": [],
   "source": []
  }
 ],
 "metadata": {
  "kernelspec": {
   "display_name": "Python 3",
   "language": "python",
   "name": "python3"
  },
  "language_info": {
   "codemirror_mode": {
    "name": "ipython",
    "version": 3
   },
   "file_extension": ".py",
   "mimetype": "text/x-python",
   "name": "python",
   "nbconvert_exporter": "python",
   "pygments_lexer": "ipython3",
   "version": "3.7.1"
  }
 },
 "nbformat": 4,
 "nbformat_minor": 2
}
