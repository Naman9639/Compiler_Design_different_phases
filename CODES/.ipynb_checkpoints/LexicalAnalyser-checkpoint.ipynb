{
 "cells": [
  {
   "cell_type": "code",
   "execution_count": null,
   "metadata": {},
   "outputs": [],
   "source": []
  },
  {
   "cell_type": "code",
   "execution_count": null,
   "metadata": {},
   "outputs": [],
   "source": [
    "operators = { '=': 'Assignment Operator','+': 'Additon Operator', '-' : 'Substraction Operator', '/' : 'Division Operator', '*': 'Multiplication Operator', '++' : 'increment Operator', '--' : 'Decrement Operator'}\n",
    "optr_keys = operators.keys()\n",
    "\n",
    "header = {'.h': 'header file'}\n",
    "header_keys = header.keys()\n",
    "\n"
   ]
  },
  {
   "cell_type": "code",
   "execution_count": null,
   "metadata": {},
   "outputs": [],
   "source": [
    "sp_header_files = {'<stdio.h>':'Standard Input Output Header','<string.h>':'String Manipulation Library'}\n"
   ]
  },
  {
   "cell_type": "code",
   "execution_count": null,
   "metadata": {},
   "outputs": [],
   "source": [
    "\n",
    "datatype = {'int': 'Integer','float' : 'Floating Point', 'char': 'Character','long': 'long int'}\n",
    "datatype_keys = datatype.keys()\n",
    "\n"
   ]
  },
  {
   "cell_type": "code",
   "execution_count": null,
   "metadata": {},
   "outputs": [],
   "source": [
    "keyword = {'return' : 'keyword that returns a value from a block'}\n",
    "keyword_keys = keyword.keys()\n",
    "\n"
   ]
  },
  {
   "cell_type": "code",
   "execution_count": null,
   "metadata": {},
   "outputs": [],
   "source": [
    "delimiter = {';':'terminator symbol semicolon (;)'}\n",
    "delimiter_keys = delimiter.keys()\n",
    "\n"
   ]
  },
  {
   "cell_type": "code",
   "execution_count": null,
   "metadata": {},
   "outputs": [],
   "source": [
    "blocks = {'{' : 'Blocked Statement Body Open', '}':'Blocked Statement Body Closed'}\n",
    "block_keys = blocks.keys()\n",
    "\n"
   ]
  },
  {
   "cell_type": "code",
   "execution_count": null,
   "metadata": {},
   "outputs": [],
   "source": [
    "builtin_functions = {'printf':'printf prints its argument on the console'}\n",
    "\n"
   ]
  },
  {
   "cell_type": "code",
   "execution_count": null,
   "metadata": {},
   "outputs": [],
   "source": [
    "non_identifiers = ['_','-','+','/','*','`','~','!','@','#','$','%','^','&','*','(',')','=','|','\"',':',';','{'\n",
    ",'}','[',']','<','>','?','/']\n",
    "\n"
   ]
  },
  {
   "cell_type": "code",
   "execution_count": null,
   "metadata": {},
   "outputs": [],
   "source": [
    "numerals = ['0','1','2','3','4','5','6','7','8','9','10']"
   ]
  },
  {
   "cell_type": "code",
   "execution_count": null,
   "metadata": {},
   "outputs": [],
   "source": [
    "f = open('test.c','r')\n",
    "\n",
    "# Flags\n",
    "dataFlag = False\n",
    "\n",
    "\n",
    "i = f.read()\n",
    "\n",
    "count = 0\n",
    "program =  i.split('\\n')\n",
    "\n",
    "for line in program:\n",
    "    count = count+1    \n",
    "     \n",
    "    tokens = line.split(' ')\n",
    "    print(tokens)\n",
    "    print \"Tokens are\",tokens\n",
    "    print \"Line #\",count,'properties \\n'\n",
    "    for token in tokens:        \n",
    "        if token in block_keys:\n",
    "            print blocks[token]\n",
    "        if token in optr_keys:\n",
    "            print \"Operator is: \", operators[token]\n",
    "        if '.h' in token:\n",
    "            print \"Header File is: \",token, sp_header_files[token]\n",
    "        if '()' in token:\n",
    "            print \"Function named\", token\n",
    "        \n",
    "        if dataFlag == True and (token not in non_identifiers) and ('()' not in token):\n",
    "            print \"Identifier: \",token\n",
    "        if token in datatype_keys:\n",
    "            print \"type is: \", datatype[token]\n",
    "            dataFlag = True\n",
    "        \n",
    "        if token in keyword_keys:\n",
    "            print keyword[token]\n",
    "            \n",
    "        if token in delimiter:\n",
    "            print \"Delimiter\" , delimiter[token]\n",
    "        if '#' in token:\n",
    "            match = re.search(r'#\\w+', token)\n",
    "            print \"Header\", match.group()\n",
    "        if token in numerals:\n",
    "            print token,type(int(token))\n",
    "        if token in builtin_functions:\n",
    "            print 'Builtin Function used is: ', token\n",
    "            \n",
    "    dataFlag = False   \n",
    "            \n",
    "    \n",
    "    print \"________________________\"\n",
    "    \n",
    "\n",
    "f.close()"
   ]
  }
 ],
 "metadata": {
  "kernelspec": {
   "display_name": "Python 3",
   "language": "python",
   "name": "python3"
  },
  "language_info": {
   "codemirror_mode": {
    "name": "ipython",
    "version": 3
   },
   "file_extension": ".py",
   "mimetype": "text/x-python",
   "name": "python",
   "nbconvert_exporter": "python",
   "pygments_lexer": "ipython3",
   "version": "3.7.1"
  }
 },
 "nbformat": 4,
 "nbformat_minor": 2
}
