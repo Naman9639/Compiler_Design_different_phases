{
 "cells": [
  {
   "cell_type": "markdown",
   "metadata": {},
   "source": [
    "# Remove Left Recursion"
   ]
  },
  {
   "cell_type": "code",
   "execution_count": 37,
   "metadata": {},
   "outputs": [
    {
     "name": "stdout",
     "output_type": "stream",
     "text": [
      "Enter number of productions :1\n",
      "Enter production :S->A|Ab|Ac\n"
     ]
    }
   ],
   "source": [
    "# Code to input the Grammar\n",
    "\n",
    "lang = {}\n",
    "gn = []\n",
    "n = int(input(\"Enter number of productions :\"))\n",
    "\n",
    "for j in range(n):\n",
    "    st = str(input(\"Enter production :\"))\n",
    "    u = st.split('->')[0]\n",
    "    gn.append(u)\n",
    "    t = st.split('->')[1]\n",
    "    lis = []\n",
    "    lis2 = []\n",
    "    lr_fl = 0\n",
    "    for x in t.split('|'):\n",
    "        if x[0] == u:\n",
    "            lr_fl = 1\n",
    "            t = list(x)\n",
    "            t.remove(u)\n",
    "            lis2.append(t)\n",
    "        else:\n",
    "            lis.append(list(x))\n",
    "    if lr_fl == 1:\n",
    "        u1 = u + '1'\n",
    "        gn.append(u1)\n",
    "        for i in lis:\n",
    "            i.append(u1)\n",
    "        for i in lis2:\n",
    "            i.append(u1)\n",
    "        lis2.append(['e'])\n",
    "        lang[u] = lis\n",
    "        lang[u1] = lis2\n",
    "    else:\n",
    "        lang[u] = lis\n"
   ]
  },
  {
   "cell_type": "code",
   "execution_count": 38,
   "metadata": {},
   "outputs": [],
   "source": [
    "def printGrammar(l,g):\n",
    "    for i in g:\n",
    "        for j in l[i]:\n",
    "            print(i+'->'+''.join(j))"
   ]
  },
  {
   "cell_type": "code",
   "execution_count": 39,
   "metadata": {},
   "outputs": [
    {
     "name": "stdout",
     "output_type": "stream",
     "text": [
      "S->A\n",
      "S->Ab\n",
      "S->Ac\n"
     ]
    }
   ],
   "source": [
    "printGrammar(lang,gn)"
   ]
  },
  {
   "cell_type": "code",
   "execution_count": null,
   "metadata": {},
   "outputs": [],
   "source": []
  },
  {
   "cell_type": "markdown",
   "metadata": {},
   "source": [
    "# Left Factoring of Grammar"
   ]
  },
  {
   "cell_type": "code",
   "execution_count": 73,
   "metadata": {},
   "outputs": [],
   "source": [
    "\n",
    "def LeftFactoring(language, nonTerminals):\n",
    "    # Code to input the Grammar\n",
    "    lang = {}\n",
    "    gn = []\n",
    "\n",
    "    for i in nonTerminals:\n",
    "        total = []\n",
    "        for j in language[i]:\n",
    "            total.append(''.join(j))\n",
    "        st = i+'->'+'|'.join(total)\n",
    "        u = st.split('->')[0]\n",
    "        gn.append(u)\n",
    "        t = st.split('->')[1]\n",
    "        lis = []\n",
    "        lis2 = []\n",
    "        lr_fl = 0\n",
    "        start = {}\n",
    "        comm = []\n",
    "        print(t)\n",
    "        for x in t.split('|'):\n",
    "            if x[0] in start.keys():\n",
    "                start[x[0]] += 1\n",
    "            else:\n",
    "                start[x[0]] = 1\n",
    "                comm.append(x[0])\n",
    "        temp = 1\n",
    "        for i in comm:\n",
    "            temp += 1\n",
    "            for x in t.split('|'):\n",
    "                if x[0] == i and start[i] <= 1:\n",
    "                    lis.append(list(x))\n",
    "                elif x[0] == i and start[i] >1:\n",
    "                    tem = []\n",
    "                    tem.append(x[0])\n",
    "                    tem.append(u + str(temp))\n",
    "                    if not (tem in lis):\n",
    "                        lis.append(list(tem))\n",
    "            if start[i] <= 1:\n",
    "                comm.remove(i)\n",
    "        lang[u] = lis\n",
    "        temp = 1\n",
    "        for i in comm:\n",
    "            temp+=1\n",
    "            lis_new = []\n",
    "            u_new = u+str(2)\n",
    "            for x in t.split('|'):\n",
    "                if x[0] == i and start[i] > 1:\n",
    "                    tem = list(x)\n",
    "                    tem.remove(i)\n",
    "                    if not tem:\n",
    "                        tem = ['e']\n",
    "                    lis_new.append(tem)\n",
    "            if lis_new:\n",
    "                lang[u_new] = lis_new\n",
    "                gn.append(u_new)\n",
    "    print(lang,gn)\n",
    "    return lang,gn\n"
   ]
  },
  {
   "cell_type": "code",
   "execution_count": 74,
   "metadata": {},
   "outputs": [
    {
     "name": "stdout",
     "output_type": "stream",
     "text": [
      "A|Ab|Ac\n",
      "{'S': [['A', 'S2']], 'S2': [['e'], ['b'], ['c']]} ['S', 'S2']\n"
     ]
    }
   ],
   "source": [
    "l,g = LeftFactoring(lang, gn)"
   ]
  },
  {
   "cell_type": "code",
   "execution_count": 75,
   "metadata": {
    "scrolled": true
   },
   "outputs": [
    {
     "name": "stdout",
     "output_type": "stream",
     "text": [
      "A|Ab|Ac\n",
      "{'S': [['A', 'S2']], 'S2': [['e'], ['b'], ['c']]} ['S', 'S2']\n",
      "AS2\n",
      "e|b|c\n",
      "{'S': [['A', 'S', '2']], 'S2': [['e'], ['c']]} ['S', 'S2']\n",
      "AS2\n",
      "e|c\n",
      "{'S': [['A', 'S', '2']], 'S2': [['e']]} ['S', 'S2']\n",
      "AS2\n",
      "e\n",
      "{'S': [['A', 'S', '2']], 'S2': [['e']]} ['S', 'S2']\n"
     ]
    }
   ],
   "source": [
    "l1=lang\n",
    "g1=gn\n",
    "while(not l==l1):\n",
    "    l=l1\n",
    "    g=g1\n",
    "    l1,g1 = LeftFactoring(l, g)\n",
    "    "
   ]
  },
  {
   "cell_type": "code",
   "execution_count": 72,
   "metadata": {},
   "outputs": [
    {
     "name": "stdout",
     "output_type": "stream",
     "text": [
      "S->AS2\n",
      "S2->e\n"
     ]
    }
   ],
   "source": [
    "printGrammar(l,g)"
   ]
  },
  {
   "cell_type": "code",
   "execution_count": 56,
   "metadata": {},
   "outputs": [
    {
     "name": "stdout",
     "output_type": "stream",
     "text": [
      "{'S': [['A', 'S', '2']], 'S2': [['e'], ['c']]} ['S', 'S2']\n"
     ]
    }
   ],
   "source": [
    "print(l,g)"
   ]
  },
  {
   "cell_type": "code",
   "execution_count": null,
   "metadata": {},
   "outputs": [],
   "source": []
  }
 ],
 "metadata": {
  "kernelspec": {
   "display_name": "Python 3",
   "language": "python",
   "name": "python3"
  },
  "language_info": {
   "codemirror_mode": {
    "name": "ipython",
    "version": 3
   },
   "file_extension": ".py",
   "mimetype": "text/x-python",
   "name": "python",
   "nbconvert_exporter": "python",
   "pygments_lexer": "ipython3",
   "version": "3.7.1"
  }
 },
 "nbformat": 4,
 "nbformat_minor": 2
}
