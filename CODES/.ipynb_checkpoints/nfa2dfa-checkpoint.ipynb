{
 "cells": [
  {
   "cell_type": "markdown",
   "metadata": {},
   "source": [
    "Regex To NFA to generate table for NFA"
   ]
  },
  {
   "cell_type": "code",
   "execution_count": 1,
   "metadata": {},
   "outputs": [
    {
     "name": "stdout",
     "output_type": "stream",
     "text": [
      "Enter the Regex :ab*cd*|adbc\n"
     ]
    }
   ],
   "source": [
    "reg = str(input(\"Enter the Regex :\"))"
   ]
  },
  {
   "cell_type": "code",
   "execution_count": 2,
   "metadata": {},
   "outputs": [
    {
     "name": "stdout",
     "output_type": "stream",
     "text": [
      "['a', 'b', 'c', 'd'] ['a', 'b', 'c', 'd', 'e']\n"
     ]
    }
   ],
   "source": [
    "import string\n",
    "varlist = []\n",
    "var = list(reg)\n",
    "for i in var:\n",
    "    if i not in string.punctuation:\n",
    "        varlist.append(i)\n",
    "varlist = set(varlist)\n",
    "varlist = list(varlist)\n",
    "varlist.sort()\n",
    "varliste = varlist.copy()\n",
    "varliste.append('e')\n",
    "print(varlist,varliste)"
   ]
  },
  {
   "cell_type": "code",
   "execution_count": 3,
   "metadata": {},
   "outputs": [],
   "source": [
    "i = 0\n",
    "j = 0\n",
    "f=[]\n",
    "q=[]\n",
    "base = 0\n",
    "q.append({})\n",
    "while(i<len(reg)):\n",
    "    #only symbol\n",
    "    if reg[i] in varliste :\n",
    "        if len(reg) > i+1:\n",
    "            if (not reg[i+1] == '*'):\n",
    "                q[j][reg[i]] = []\n",
    "                q[j][reg[i]].append(j+1)\n",
    "                j=j+1\n",
    "                if len(q) <= j:\n",
    "                    q.append({})\n",
    "        else:\n",
    "            if len(q) <= j:\n",
    "                q.append({})\n",
    "            q[j][reg[i]] = []\n",
    "            q[j][reg[i]].append(j+1)\n",
    "            j=j+1\n",
    "            if len(q) <= j:\n",
    "                q.append({})\n",
    "    #for | operator\n",
    "    if len(reg) > i+1 :\n",
    "        if reg[i] == '|' and reg[i+1] in varlist:\n",
    "            \n",
    "            f.append(j)\n",
    "            \n",
    "            if len(q) <= j:\n",
    "                q.append({})\n",
    "            \n",
    "            if 'e' in q[base]:\n",
    "                q[base]['e'].append(j+1)\n",
    "            else:\n",
    "                q[base]['e'] = []\n",
    "                q[base]['e'].append(j+1)\n",
    "            j+=1\n",
    "            \n",
    "            if len(q) <= j:\n",
    "                q.append({})\n",
    "            \n",
    "    #For * operator\n",
    "    if len(reg) > i+1 : \n",
    "        if reg[i] in varlist and reg[i+1] == '*':\n",
    "            \n",
    "            if reg[i] in q[j]:\n",
    "                q[j][reg[i]].append(j+1)\n",
    "            else:\n",
    "                q[j][reg[i]] = []\n",
    "                q[j][reg[i]].append(j+1)\n",
    "            \n",
    "            if 'e' in q[j]:\n",
    "                q[j]['e'].append(j+1)\n",
    "            else:\n",
    "                q[j]['e'] = []\n",
    "                q[j]['e'].append(j+1)\n",
    "            \n",
    "            \n",
    "            \n",
    "            j = j+1\n",
    "            if len(q) <= j:\n",
    "                q.append({})\n",
    "            if 'e' in q[j]:\n",
    "                q[j]['e'].append(j-1)\n",
    "            else:\n",
    "                q[j]['e'] = []\n",
    "                q[j]['e'].append(j-1)\n",
    "            \n",
    "            i+=1\n",
    "            \n",
    "    i+=1\n",
    "    \n",
    "if 'e' in q[j]:\n",
    "    q[j]['e'].append(j+1)\n",
    "else:\n",
    "    q[j]['e'] = []\n",
    "    q[j]['e'].append(j+1)\n",
    "q.append({})\n",
    "j+=1\n",
    "for i in f:\n",
    "    if 'e' in q[i]:\n",
    "        q[i]['e'].append(j-1)\n",
    "    else:\n",
    "        q[i]['e'] = []\n",
    "        q[i]['e'].append(j-1)"
   ]
  },
  {
   "cell_type": "code",
   "execution_count": 5,
   "metadata": {},
   "outputs": [],
   "source": [
    "#Function for Displaying NFA Transition table\n",
    "def variable(x,k):\n",
    "    if x in q[k].keys():\n",
    "        return q[k][x]\n",
    "    else:\n",
    "        return \"-\""
   ]
  },
  {
   "cell_type": "code",
   "execution_count": 6,
   "metadata": {},
   "outputs": [
    {
     "name": "stdout",
     "output_type": "stream",
     "text": [
      "State\t a\tb\tc\td\te\n",
      "0 \t [1]\t-\t-\t-\t[5]\n",
      "1 \t -\t[2]\t-\t-\t[2]\n",
      "2 \t -\t-\t[3]\t-\t[1]\n",
      "3 \t -\t-\t-\t[4]\t[4]\n",
      "4 \t -\t-\t-\t-\t[3, 9]\n",
      "5 \t [6]\t-\t-\t-\t-\n",
      "6 \t -\t-\t-\t[7]\t-\n",
      "7 \t -\t[8]\t-\t-\t-\n",
      "8 \t -\t-\t[9]\t-\t-\n",
      "9 \t -\t-\t-\t-\t[10]\n",
      "10 \t -\t-\t-\t-\t-\n"
     ]
    }
   ],
   "source": [
    "# Displaying NFA Transition table\n",
    "print (\"State\\t\", (\"\\t\".join(map(str,varliste))))\n",
    "for i in range(len(q)):\n",
    "    print(i,\"\\t\",\"\\t\".join( str(variable(var,i)) for var in varliste ))"
   ]
  },
  {
   "cell_type": "code",
   "execution_count": 7,
   "metadata": {},
   "outputs": [],
   "source": [
    "#Function for finding all possible e moves from given state or list of states\n",
    "\n",
    "def e_moves(q,l_val):\n",
    "    st=[]\n",
    "    for x in l_val:\n",
    "        state_set = set([x])\n",
    "        if 'e' in q[x].keys():\n",
    "            state_set.update(set(q[x]['e']))\n",
    "        \n",
    "        t = set([x])\n",
    "        while not t == state_set:\n",
    "            t = state_set.copy()\n",
    "            for i in t:\n",
    "                if 'e' in q[i].keys():\n",
    "                    state_set.update(set(q[i]['e']))\n",
    "        st.extend(list(state_set))\n",
    "    st = set(st)\n",
    "    st = list(st)\n",
    "    st.sort()\n",
    "    return st"
   ]
  },
  {
   "cell_type": "code",
   "execution_count": 8,
   "metadata": {},
   "outputs": [],
   "source": [
    "#Function generating state for moves with given symbol\n",
    "\n",
    "def moves(q, l_val, move):\n",
    "    state_set = set()\n",
    "    l_val = e_moves(q,l_val)\n",
    "    for x in l_val:\n",
    "        if move in q[x].keys():\n",
    "            state_set.update(set(q[x][move]))\n",
    "    state_set = list(state_set)\n",
    "    state_set = e_moves(q,state_set)\n",
    "    return state_set"
   ]
  },
  {
   "cell_type": "code",
   "execution_count": 11,
   "metadata": {},
   "outputs": [],
   "source": [
    "#Selection of starting and Final states\n",
    "\n",
    "start_st = []\n",
    "start_st.append(0)\n",
    "end_st = (len(q)-1)\n",
    "start_st = e_moves(q,start_st)"
   ]
  },
  {
   "cell_type": "code",
   "execution_count": 12,
   "metadata": {},
   "outputs": [],
   "source": [
    "dfa_st = []   #list for states of dfa\n",
    "dfa_vis = []  #list for unvisited states of dfa\n",
    "dfa_q = []    #list for dictionary of transitions from states\n",
    "dfa_st.append(start_st)   \n",
    "dfa_vis.append(start_st)\n",
    "p=-1   # For count of states in dfa \n",
    "while(dfa_vis):\n",
    "    curr_st = dfa_vis.pop(0) # selecting first state\n",
    "    dfa_q.append({}) \n",
    "    p+=1\n",
    "    for i in varlist:  #loop for evaluating moves \n",
    "        new_st = moves(q,curr_st,i)\n",
    "        if new_st:\n",
    "            dfa_q[p][i] = new_st\n",
    "            if not (new_st in dfa_st):\n",
    "                dfa_st.append(new_st)\n",
    "                dfa_vis.append(new_st)\n",
    "            \n",
    "            "
   ]
  },
  {
   "cell_type": "code",
   "execution_count": 13,
   "metadata": {},
   "outputs": [],
   "source": [
    "# Function for displaying transition table\n",
    "def variable(x,k):\n",
    "    if x in dfa_q[k].keys():\n",
    "        return dfa_q[k][x]\n",
    "    else:\n",
    "        return \"-\""
   ]
  },
  {
   "cell_type": "code",
   "execution_count": 14,
   "metadata": {},
   "outputs": [
    {
     "name": "stdout",
     "output_type": "stream",
     "text": [
      "State                  a              b              c              d       \n",
      "[0, 5]            [1, 2, 6]          -              -              -        \n",
      "[1, 2, 6]             -            [1, 2]     [3, 4, 9, 10]       [7]       \n",
      "[1, 2]                -            [1, 2]     [3, 4, 9, 10]        -        \n",
      "[3, 4, 9, 10]         -              -              -        [3, 4, 9, 10]  \tFinal State\n",
      "[7]                   -             [8]             -              -        \n",
      "[8]                   -              -           [9, 10]           -        \n",
      "[9, 10]               -              -              -              -        \tFinal State\n"
     ]
    }
   ],
   "source": [
    "#printing transition table for DFA\n",
    "\n",
    "s=''\n",
    "for i in varlist:\n",
    "    s += i.center(15)\n",
    "\n",
    "print (\"State\".ljust(15), s)\n",
    "\n",
    "for i in range(len(dfa_q)):\n",
    "    s = str(dfa_st[i]).ljust(15)\n",
    "    for var in varlist:\n",
    "        s += str(variable(var,i)).center(15)\n",
    "    print( s, \"\\tFinal State\" if end_st in dfa_st[i] else \"\")\n"
   ]
  },
  {
   "cell_type": "code",
   "execution_count": null,
   "metadata": {},
   "outputs": [],
   "source": []
  },
  {
   "cell_type": "code",
   "execution_count": null,
   "metadata": {},
   "outputs": [],
   "source": []
  }
 ],
 "metadata": {
  "kernelspec": {
   "display_name": "Python 3",
   "language": "python",
   "name": "python3"
  },
  "language_info": {
   "codemirror_mode": {
    "name": "ipython",
    "version": 3
   },
   "file_extension": ".py",
   "mimetype": "text/x-python",
   "name": "python",
   "nbconvert_exporter": "python",
   "pygments_lexer": "ipython3",
   "version": "3.7.1"
  }
 },
 "nbformat": 4,
 "nbformat_minor": 2
}
