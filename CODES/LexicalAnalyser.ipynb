{
 "cells": [
  {
   "cell_type": "markdown",
   "metadata": {},
   "source": [
    "## Lexical Analyser"
   ]
  },
  {
   "cell_type": "code",
   "execution_count": 1,
   "metadata": {},
   "outputs": [],
   "source": [
    "# for identifying header files in the code\n",
    "\n",
    "header = {'.h': 'header file'}\n",
    "header_keys = header.keys()\n",
    "\n",
    "sp_header_files = {'<stdio.h>':'Standard Input Output Header',\n",
    "                   '<conio.h>':'console Input Output Header',\n",
    "                   '<string.h>':'String Manipulation Library'}"
   ]
  },
  {
   "cell_type": "code",
   "execution_count": 2,
   "metadata": {},
   "outputs": [],
   "source": [
    "# for identifying the datatypes available\n",
    "\n",
    "datatype = {'int': 'Integer','float' : 'Floating Point', 'char': 'Character','long': 'long int'}\n",
    "datatype_keys = datatype.keys()"
   ]
  },
  {
   "cell_type": "code",
   "execution_count": 3,
   "metadata": {},
   "outputs": [],
   "source": [
    "# for identifying operators in the input code\n",
    "\n",
    "operator_list = { '=': 'Assignment Operator','+': 'Additon Operator', '-' : 'Substraction Operator', \n",
    "                  '/' : 'Division Operator', '*': 'Multiplication Operator', '++' : 'increment Operator', \n",
    "                  '--' : 'Decrement Operator'}\n",
    "operator_keys = operator_list.keys()"
   ]
  },
  {
   "cell_type": "code",
   "execution_count": 4,
   "metadata": {},
   "outputs": [],
   "source": [
    "#for identifying other keywords in the code\n",
    "\n",
    "keyword = {'return' : 'keyword that returns a value from a block'}\n",
    "keyword_keys = keyword.keys()"
   ]
  },
  {
   "cell_type": "code",
   "execution_count": 5,
   "metadata": {},
   "outputs": [],
   "source": [
    "# for statement termination in the code\n",
    "\n",
    "delimiter = {';':'terminator symbol semicolon (;)'}\n",
    "delimiter_keys = delimiter.keys()"
   ]
  },
  {
   "cell_type": "code",
   "execution_count": 6,
   "metadata": {},
   "outputs": [],
   "source": [
    "#for identifying different blocks in the code\n",
    "\n",
    "blocks = {'{' : 'Blocked Statement Body Open', '}':'Blocked Statement Body Closed'}\n",
    "block_keys = blocks.keys()"
   ]
  },
  {
   "cell_type": "code",
   "execution_count": 7,
   "metadata": {},
   "outputs": [],
   "source": [
    "# for recognising the builtin functions in the code\n",
    "\n",
    "builtin_functions = {'printf':'printf prints its argument on the console'}"
   ]
  },
  {
   "cell_type": "code",
   "execution_count": 9,
   "metadata": {},
   "outputs": [],
   "source": [
    "# for identifying puctuations\n",
    "\n",
    "import string\n",
    "non_identifiers = list(string.punctuation)"
   ]
  },
  {
   "cell_type": "code",
   "execution_count": 10,
   "metadata": {},
   "outputs": [],
   "source": [
    "# for digits in code\n",
    "\n",
    "numerals = ['0','1','2','3','4','5','6','7','8','9','10']"
   ]
  },
  {
   "cell_type": "code",
   "execution_count": 11,
   "metadata": {},
   "outputs": [
    {
     "name": "stdout",
     "output_type": "stream",
     "text": [
      "['#include', '<stdio.h>']\n",
      "Tokens are ['#include', '<stdio.h>']\n",
      "Line # 1 properties \n",
      "\n",
      "Header #include\n",
      "Header File is:  <stdio.h> Standard Input Output Header\n",
      "________________________\n",
      "['#include', '<conio.h>']\n",
      "Tokens are ['#include', '<conio.h>']\n",
      "Line # 2 properties \n",
      "\n",
      "Header #include\n",
      "Header File is:  <conio.h> console Input Output Header\n",
      "________________________\n",
      "['int', 'main(){']\n",
      "Tokens are ['int', 'main(){']\n",
      "Line # 3 properties \n",
      "\n",
      "type is:  Integer\n",
      "Function named main(){\n",
      "________________________\n",
      "['int', 'a', '=', '4;']\n",
      "Tokens are ['int', 'a', '=', '4;']\n",
      "Line # 4 properties \n",
      "\n",
      "type is:  Integer\n",
      "Identifier:  a\n",
      "Operator is:  Assignment Operator\n",
      "Identifier:  4;\n",
      "________________________\n",
      "['printf(\"%d\",a);']\n",
      "Tokens are ['printf(\"%d\",a);']\n",
      "Line # 5 properties \n",
      "\n",
      "________________________\n",
      "['return', '0;']\n",
      "Tokens are ['return', '0;']\n",
      "Line # 6 properties \n",
      "\n",
      "keyword that returns a value from a block\n",
      "________________________\n",
      "['}']\n",
      "Tokens are ['}']\n",
      "Line # 7 properties \n",
      "\n",
      "Blocked Statement Body Closed\n",
      "________________________\n",
      "['']\n",
      "Tokens are ['']\n",
      "Line # 8 properties \n",
      "\n",
      "________________________\n"
     ]
    }
   ],
   "source": [
    "# opening file\n",
    "f = open('code.cpp','r')\n",
    "\n",
    "# Flags\n",
    "dataFlag = False\n",
    "\n",
    "\n",
    "i = f.read()\n",
    "\n",
    "count = 0\n",
    "program =  i.split('\\n')\n",
    "\n",
    "for line in program:\n",
    "    count = count+1    \n",
    "     \n",
    "    tokens = line.split(' ')\n",
    "    print(tokens)\n",
    "    print(\"Tokens are\",tokens)\n",
    "    print(\"Line #\",count,'properties \\n')\n",
    "    for token in tokens:        \n",
    "        if token in block_keys:\n",
    "            print( blocks[token] )\n",
    "        if token in operator_keys:\n",
    "            print( \"Operator is: \", operator_list[token] )\n",
    "        if '.h' in token:\n",
    "            print( \"Header File is: \",token, sp_header_files[token] )\n",
    "        if '()' in token:\n",
    "            print( \"Function named\", token )\n",
    "        \n",
    "        if dataFlag == True and (token not in non_identifiers) and ('()' not in token):\n",
    "            print( \"Identifier: \",token )\n",
    "        if token in datatype_keys:\n",
    "            print( \"type is: \", datatype[token] )\n",
    "            dataFlag = True\n",
    "        \n",
    "        if token in keyword_keys:\n",
    "            print( keyword[token] )\n",
    "            \n",
    "        if token in delimiter:\n",
    "            print( \"Delimiter\" , delimiter[token] )\n",
    "        if '#' in token:\n",
    "            match = re.search(r'#\\w+', token)\n",
    "            print( \"Header\", match.group() )\n",
    "        if token in numerals:\n",
    "            print( token,type(int(token)) )\n",
    "        if token in builtin_functions:\n",
    "            print( 'Builtin Function used is: ', token )\n",
    "            \n",
    "    dataFlag = False   \n",
    "            \n",
    "    \n",
    "    print( \"________________________\")\n",
    "    \n",
    "\n",
    "f.close()"
   ]
  },
  {
   "cell_type": "code",
   "execution_count": null,
   "metadata": {},
   "outputs": [],
   "source": []
  }
 ],
 "metadata": {
  "kernelspec": {
   "display_name": "Python 3",
   "language": "python",
   "name": "python3"
  },
  "language_info": {
   "codemirror_mode": {
    "name": "ipython",
    "version": 3
   },
   "file_extension": ".py",
   "mimetype": "text/x-python",
   "name": "python",
   "nbconvert_exporter": "python",
   "pygments_lexer": "ipython3",
   "version": "3.7.1"
  }
 },
 "nbformat": 4,
 "nbformat_minor": 2
}
